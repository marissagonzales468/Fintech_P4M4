{
 "cells": [
  {
   "cell_type": "markdown",
   "id": "1ffd7c61-3baa-46b8-aa13-1c915ea5bc1b",
   "metadata": {},
   "source": [
    "# Risk Return Application"
   ]
  },
  {
   "cell_type": "code",
   "execution_count": null,
   "id": "e16bf6d6-b90e-4602-8c5a-23fb339cddb4",
   "metadata": {},
   "outputs": [],
   "source": [
    "This application aims to offer users a one-stop online \n",
    "investment solution for their retirement portfolios that’s \n",
    "both inexpensive and high quality. To keep the costs low, the \n",
    "application uses algorithms to build each users portfolio  to \n",
    "determine the fund with the most investment potential based on \n",
    "key risk-management metrics: \n",
    "the daily returns, standard deviations, Sharpe ratios,and betas.\n"
   ]
  },
  {
   "cell_type": "markdown",
   "id": "66400ae9-4c62-43a8-837d-3fb14a8a0fbc",
   "metadata": {},
   "source": [
    "## Technologies"
   ]
  },
  {
   "cell_type": "code",
   "execution_count": null,
   "id": "eaf1e0b2-9e2d-4858-8be5-9af94c7c6505",
   "metadata": {},
   "outputs": [],
   "source": [
    "This project leverages python 3.7 with the following packages:\n",
    "\n",
    "* [numpy](https://numpy.org) - Numpy provides an extensive\n",
    "package of mathematcal functions, random number generators, \n",
    "and other compendious functions. Ultimately, it 'cleans' \n",
    "the data to give it a more uniform look discarding rid all the\n",
    "\"dirty data\". \n",
    "* [matplotlib](https://tinyurl.com/5yvhz3mm) - \n",
    "matplotlib visualizes the written data by plotting it directly\n",
    "below the code cell that produces it. Users have the option \n",
    "looking at the data side by side. The resulting plots will then be \n",
    "stored in the document.\n",
    "\n"
   ]
  },
  {
   "cell_type": "markdown",
   "id": "346a4ef4-9571-44f8-907e-7628bd840ed8",
   "metadata": {},
   "source": [
    "## Installation Guide"
   ]
  },
  {
   "cell_type": "code",
   "execution_count": null,
   "id": "e1e75cff-29f4-4ada-80cb-1e4b92f37017",
   "metadata": {},
   "outputs": [],
   "source": [
    "\n",
    "Before running the application first install the following dependencies.\n",
    "\n",
    "```python\n",
    "pip install numpy\n",
    "pip install matplotlib\n",
    "```\n",
    "\n",
    "---"
   ]
  },
  {
   "cell_type": "markdown",
   "id": "d5e5c80d-41b3-4c07-9cd4-73c0547136f2",
   "metadata": {},
   "source": [
    "## Usage"
   ]
  },
  {
   "cell_type": "code",
   "execution_count": null,
   "id": "4f7508e7-ca01-49ae-bf25-81af9cd766f8",
   "metadata": {},
   "outputs": [],
   "source": [
    "To calculate the risk, open the application and simply clone the repository and run the **app.py** with:\n",
    "**risk_return_analysis.ipy** with:\n",
    "```python\n",
    "python \n",
    "```risk_return_analysis\n",
    "```\n",
    "Upon launching the risk return analysis application you will be greeted with the following prompts.\n",
    "\n",
    "![Risk_Return_anaylsis.ipy](Images/risk_return_analysis.png)"
   ]
  },
  {
   "cell_type": "code",
   "execution_count": null,
   "id": "b08fe909-f05c-4f55-93d9-c66bc8b97e93",
   "metadata": {},
   "outputs": [],
   "source": [
    "---"
   ]
  },
  {
   "cell_type": "markdown",
   "id": "a2f28f7f-22c4-4ae8-a9e6-507326db3fd6",
   "metadata": {},
   "source": [
    "\n",
    "## Contributors"
   ]
  },
  {
   "cell_type": "code",
   "execution_count": null,
   "id": "63d1e4c0-c734-4c8e-88d9-fcad87d66d98",
   "metadata": {},
   "outputs": [],
   "source": [
    "Brought to you by Marissa Gonzales."
   ]
  },
  {
   "cell_type": "markdown",
   "id": "17fc192e-ee06-4dd7-8308-a023397a4203",
   "metadata": {},
   "source": [
    "## License"
   ]
  },
  {
   "cell_type": "markdown",
   "id": "a1f3129b-c10e-403c-a876-ed6008bcbc65",
   "metadata": {},
   "source": [
    "MIT"
   ]
  }
 ],
 "metadata": {
  "kernelspec": {
   "display_name": "Python 3 (ipykernel)",
   "language": "python",
   "name": "python3"
  },
  "language_info": {
   "codemirror_mode": {
    "name": "ipython",
    "version": 3
   },
   "file_extension": ".py",
   "mimetype": "text/x-python",
   "name": "python",
   "nbconvert_exporter": "python",
   "pygments_lexer": "ipython3",
   "version": "3.9.12"
  }
 },
 "nbformat": 4,
 "nbformat_minor": 5
}
